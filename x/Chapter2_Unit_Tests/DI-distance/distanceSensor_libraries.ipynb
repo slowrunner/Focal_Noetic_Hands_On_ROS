{
 "cells": [
  {
   "cell_type": "code",
   "execution_count": 1,
   "metadata": {},
   "outputs": [],
   "source": [
    "# Print all calculated variables in a cell\n",
    "from IPython.core.interactiveshell import InteractiveShell\n",
    "InteractiveShell.ast_node_interactivity = \"all\""
   ]
  },
  {
   "cell_type": "markdown",
   "metadata": {},
   "source": [
    "# Distance sensor"
   ]
  },
  {
   "cell_type": "markdown",
   "metadata": {},
   "source": [
    "## Library **distance_sensor**"
   ]
  },
  {
   "cell_type": "markdown",
   "metadata": {},
   "source": [
    "This library does not accept I2C port, you should connect it to AD1 or AD2. Here we use AD2."
   ]
  },
  {
   "cell_type": "code",
   "execution_count": 23,
   "metadata": {},
   "outputs": [],
   "source": [
    "from di_sensors.distance_sensor import DistanceSensor\n",
    "from time import sleep"
   ]
  },
  {
   "cell_type": "code",
   "execution_count": 134,
   "metadata": {},
   "outputs": [],
   "source": [
    "distanceAD2 = DistanceSensor(bus = \"GPG3_AD2\")  # or GPG3_AD1 (whatever it is connected)"
   ]
  },
  {
   "cell_type": "markdown",
   "metadata": {},
   "source": [
    "## Continuos measurements\n",
    "Start taking continuous measurements with the specified rate:"
   ]
  },
  {
   "cell_type": "code",
   "execution_count": 135,
   "metadata": {},
   "outputs": [],
   "source": [
    "distanceAD2.start_continuous(period_ms = 500)"
   ]
  },
  {
   "cell_type": "markdown",
   "metadata": {},
   "source": [
    "Read the detected range while the sensor is taking continuous measurements at the set rate:"
   ]
  },
  {
   "cell_type": "code",
   "execution_count": 136,
   "metadata": {},
   "outputs": [
    {
     "data": {
      "text/plain": [
       "8190"
      ]
     },
     "execution_count": 136,
     "metadata": {},
     "output_type": "execute_result"
    }
   ],
   "source": [
    "distanceAD2.read_range_continuous()"
   ]
  },
  {
   "cell_type": "code",
   "execution_count": 137,
   "metadata": {},
   "outputs": [
    {
     "name": "stdout",
     "output_type": "stream",
     "text": [
      "distance from object: 1311 mm\n"
     ]
    },
    {
     "data": {
      "text/plain": [
       "False"
      ]
     },
     "execution_count": 137,
     "metadata": {},
     "output_type": "execute_result"
    },
    {
     "name": "stdout",
     "output_type": "stream",
     "text": [
      "distance from object: 1241 mm\n"
     ]
    },
    {
     "data": {
      "text/plain": [
       "False"
      ]
     },
     "execution_count": 137,
     "metadata": {},
     "output_type": "execute_result"
    },
    {
     "name": "stdout",
     "output_type": "stream",
     "text": [
      "distance from object: 8190 mm\n"
     ]
    },
    {
     "data": {
      "text/plain": [
       "False"
      ]
     },
     "execution_count": 137,
     "metadata": {},
     "output_type": "execute_result"
    },
    {
     "name": "stdout",
     "output_type": "stream",
     "text": [
      "distance from object: 8190 mm\n"
     ]
    },
    {
     "data": {
      "text/plain": [
       "False"
      ]
     },
     "execution_count": 137,
     "metadata": {},
     "output_type": "execute_result"
    },
    {
     "name": "stdout",
     "output_type": "stream",
     "text": [
      "distance from object: 64 mm\n"
     ]
    },
    {
     "data": {
      "text/plain": [
       "False"
      ]
     },
     "execution_count": 137,
     "metadata": {},
     "output_type": "execute_result"
    }
   ],
   "source": [
    "#while True:\n",
    "i=0\n",
    "while i<5:\n",
    "  read_distance = distanceSensor.read_range_continuous()\n",
    "  print(\"distance from object: {} mm\".format(read_distance))\n",
    "  distanceSensor.timeout_occurred()\n",
    "  sleep(0.1)\n",
    "  i=i+1"
   ]
  },
  {
   "cell_type": "markdown",
   "metadata": {},
   "source": [
    "## Single measurements\n",
    "Read the detected range with a single measurement. This is less precise/fast than its counterpart `read_range_continuous`"
   ]
  },
  {
   "cell_type": "code",
   "execution_count": 138,
   "metadata": {},
   "outputs": [
    {
     "data": {
      "text/plain": [
       "46"
      ]
     },
     "execution_count": 138,
     "metadata": {},
     "output_type": "execute_result"
    }
   ],
   "source": [
    "distanceAD2.read_range_single()"
   ]
  },
  {
   "cell_type": "markdown",
   "metadata": {},
   "source": [
    "## Library **easy_distance_sensor**"
   ]
  },
  {
   "cell_type": "code",
   "execution_count": 117,
   "metadata": {},
   "outputs": [],
   "source": [
    "from di_sensors.easy_distance_sensor import EasyDistanceSensor"
   ]
  },
  {
   "cell_type": "markdown",
   "metadata": {},
   "source": [
    "Check that the sensor is connect to one I2C port."
   ]
  },
  {
   "cell_type": "code",
   "execution_count": 132,
   "metadata": {},
   "outputs": [],
   "source": [
    "distanceI2C = EasyDistanceSensor() # It requires the sensor to be connected to a I2C port"
   ]
  },
  {
   "cell_type": "markdown",
   "metadata": {},
   "source": [
    "And check it works"
   ]
  },
  {
   "cell_type": "code",
   "execution_count": 133,
   "metadata": {},
   "outputs": [
    {
     "name": "stdout",
     "output_type": "stream",
     "text": [
      "distance from object: 300 cm or 3000 mm or 118.1 in\n",
      "distance from object: 300 cm or 3000 mm or 118.1 in\n",
      "distance from object: 4 cm or 3000 mm or 118.1 in\n",
      "distance from object: 300 cm or 3000 mm or 118.1 in\n",
      "distance from object: 300 cm or 3000 mm or 118.1 in\n"
     ]
    }
   ],
   "source": [
    "i=0\n",
    "while i<5:\n",
    "  read_distance = distanceI2C.read()\n",
    "  read_distance_mm = distanceI2C.read_mm()\n",
    "  read_distance_inch = distanceI2C.read_inches()  \n",
    "  print(\"distance from object: {} cm or {} mm or {} in\".format(read_distance,read_distance_mm,read_distance_inch))\n",
    "  i=i+1\n",
    "  sleep(0.5)"
   ]
  }
 ],
 "metadata": {
  "kernelspec": {
   "display_name": "Python 3",
   "language": "python",
   "name": "python3"
  },
  "language_info": {
   "codemirror_mode": {
    "name": "ipython",
    "version": 3
   },
   "file_extension": ".py",
   "mimetype": "text/x-python",
   "name": "python",
   "nbconvert_exporter": "python",
   "pygments_lexer": "ipython3",
   "version": "3.7.3"
  }
 },
 "nbformat": 4,
 "nbformat_minor": 2
}

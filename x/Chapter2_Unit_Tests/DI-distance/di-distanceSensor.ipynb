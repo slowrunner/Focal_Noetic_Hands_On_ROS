{
 "cells": [
  {
   "cell_type": "markdown",
   "metadata": {},
   "source": [
    "## Import the modules"
   ]
  },
  {
   "cell_type": "code",
   "execution_count": 1,
   "metadata": {},
   "outputs": [
    {
     "ename": "ModuleNotFoundError",
     "evalue": "No module named 'di_sensors'",
     "output_type": "error",
     "traceback": [
      "\u001b[0;31m---------------------------------------------------------------------------\u001b[0m",
      "\u001b[0;31mModuleNotFoundError\u001b[0m                       Traceback (most recent call last)",
      "\u001b[0;32m<ipython-input-1-e483cb7783b1>\u001b[0m in \u001b[0;36m<module>\u001b[0;34m\u001b[0m\n\u001b[0;32m----> 1\u001b[0;31m \u001b[0;32mfrom\u001b[0m \u001b[0mdi_sensors\u001b[0m\u001b[0;34m.\u001b[0m\u001b[0measy_distance_sensor\u001b[0m \u001b[0;32mimport\u001b[0m \u001b[0mEasyDistanceSensor\u001b[0m\u001b[0;34m\u001b[0m\u001b[0;34m\u001b[0m\u001b[0m\n\u001b[0m\u001b[1;32m      2\u001b[0m \u001b[0;32mfrom\u001b[0m \u001b[0mtime\u001b[0m \u001b[0;32mimport\u001b[0m \u001b[0msleep\u001b[0m\u001b[0;34m\u001b[0m\u001b[0;34m\u001b[0m\u001b[0m\n",
      "\u001b[0;31mModuleNotFoundError\u001b[0m: No module named 'di_sensors'"
     ]
    }
   ],
   "source": [
    "from di_sensors.easy_distance_sensor import EasyDistanceSensor\n",
    "from time import sleep"
   ]
  },
  {
   "cell_type": "markdown",
   "metadata": {},
   "source": [
    "## Instantiate the distance object"
   ]
  },
  {
   "cell_type": "code",
   "execution_count": 2,
   "metadata": {},
   "outputs": [],
   "source": [
    "my_sensor = EasyDistanceSensor()"
   ]
  },
  {
   "cell_type": "markdown",
   "metadata": {},
   "source": [
    "## and read the sensor iteratively"
   ]
  },
  {
   "cell_type": "code",
   "execution_count": 4,
   "metadata": {},
   "outputs": [
    {
     "name": "stdout",
     "output_type": "stream",
     "text": [
      "distance from object: 26 cm or 275 mm or 10.2 in\n",
      "distance from object: 26 cm or 266 mm or 10.2 in\n",
      "distance from object: 26 cm or 269 mm or 10.2 in\n",
      "distance from object: 26 cm or 275 mm or 10.2 in\n",
      "distance from object: 26 cm or 267 mm or 10.6 in\n",
      "distance from object: 27 cm or 272 mm or 10.6 in\n",
      "distance from object: 26 cm or 274 mm or 10.2 in\n",
      "distance from object: 26 cm or 268 mm or 10.6 in\n",
      "distance from object: 26 cm or 272 mm or 10.2 in\n",
      "distance from object: 26 cm or 270 mm or 10.2 in\n",
      "distance from object: 26 cm or 271 mm or 10.2 in\n",
      "distance from object: 27 cm or 272 mm or 10.6 in\n",
      "distance from object: 26 cm or 272 mm or 10.2 in\n",
      "distance from object: 26 cm or 270 mm or 10.6 in\n",
      "distance from object: 27 cm or 269 mm or 10.2 in\n",
      "distance from object: 26 cm or 272 mm or 10.2 in\n",
      "distance from object: 27 cm or 264 mm or 10.6 in\n",
      "distance from object: 26 cm or 265 mm or 10.6 in\n",
      "distance from object: 27 cm or 268 mm or 10.6 in\n",
      "distance from object: 26 cm or 265 mm or 10.6 in\n",
      "distance from object: 27 cm or 269 mm or 10.6 in\n",
      "distance from object: 26 cm or 273 mm or 10.6 in\n",
      "distance from object: 26 cm or 266 mm or 10.2 in\n",
      "distance from object: 27 cm or 269 mm or 10.2 in\n"
     ]
    }
   ],
   "source": [
    "while True:\n",
    "  read_distance = my_sensor.read()\n",
    "  read_distance_mm = my_sensor.read_mm()\n",
    "  read_distance_inch = my_sensor.read_inches()  \n",
    "  print(\"distance from object: {} cm or {} mm or {} in\".format(read_distance,read_distance_mm,read_distance_inch))\n",
    "\n",
    "  sleep(0.1)"
   ]
  },
  {
   "cell_type": "code",
   "execution_count": null,
   "metadata": {},
   "outputs": [],
   "source": []
  }
 ],
 "metadata": {
  "kernelspec": {
   "display_name": "Python 3",
   "language": "python",
   "name": "python3"
  },
  "language_info": {
   "codemirror_mode": {
    "name": "ipython",
    "version": 3
   },
   "file_extension": ".py",
   "mimetype": "text/x-python",
   "name": "python",
   "nbconvert_exporter": "python",
   "pygments_lexer": "ipython3",
   "version": "3.7.3"
  }
 },
 "nbformat": 4,
 "nbformat_minor": 2
}

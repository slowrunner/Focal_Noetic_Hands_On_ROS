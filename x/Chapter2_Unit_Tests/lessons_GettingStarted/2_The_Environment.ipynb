{
 "cells": [
  {
   "cell_type": "markdown",
   "metadata": {},
   "source": [
    "# About the JupyterLab Environment\n",
    "\n",
    "## Introduction"
   ]
  },
  {
   "cell_type": "markdown",
   "metadata": {},
   "source": [
    "This environment you're in is probably not what you expected. It's called JupyterLab and we are very thankfull to the team who created it.\n",
    "\n",
    "![title](../img/JupyterLab.png)\n",
    "![title](../img/GPG3_FullServoDistanceGoogly_1-1-300x300.jpg)\n",
    "\n",
    "It allows you to code interactively which is awesome when collecting data. Each project is in a notebook ( extension is **.ipynb** instead of a **.py** file ) but rest assured, it's still Python!\n"
   ]
  },
  {
   "cell_type": "markdown",
   "metadata": {},
   "source": [
    "## About the Kernel"
   ]
  },
  {
   "cell_type": "markdown",
   "metadata": {},
   "source": [
    "The magic behind the scene happens with the *kernel*. The only kernel installed on DexterOS is Python3.  You can see it at the top right corner: \n",
    "\n",
    "![title](../img/kernel.png)\n",
    "\n",
    "The empty circle indicates the kernel is not doing anything. It will change to a full circle if the kernel is busy.  Should you ever write an infinite loop or deal with data that's too big, this will be your first sign of trouble. \n",
    "\n",
    "The following is an infinite loop. If you run it, you will see the kernel get busy and not come back to an idle state. \n",
    "\n",
    "![title](../img/busy_kernel.png)\n",
    "\n",
    "\n",
    "Press the ![title](../img/stop.png) icon to interrupt the kernel and get out of the infinite loop."
   ]
  },
  {
   "cell_type": "code",
   "execution_count": null,
   "metadata": {},
   "outputs": [],
   "source": [
    "from time import sleep\n",
    "\n",
    "while True:\n",
    "    sleep(1)"
   ]
  },
  {
   "cell_type": "markdown",
   "metadata": {},
   "source": [
    "An error shows up when you interrupt the kernel but it's nothing to worry about.\n",
    "\n",
    "You can also reset a notebook to its pristine condition by choosing \n",
    "*Kernel/Restart Kernel And Clear All Outputs...*\n",
    "from the Jupyterlab menu\n",
    "\n",
    "![title](../img/restart_and_clear.png)\n",
    "\n",
    "This brings the notebook to its original state as if you had never run the code in it.\n"
   ]
  },
  {
   "cell_type": "markdown",
   "metadata": {},
   "source": [
    "Now it's possible to kill the kernel but still have a robot that keeps on going forever. Take a look at the following code.  (Make sure your GoPiGo has room to spin and won't fall off a table)"
   ]
  },
  {
   "cell_type": "code",
   "execution_count": null,
   "metadata": {},
   "outputs": [],
   "source": [
    "import easygopigo3 as easy\n",
    "g = easy.EasyGoPiGo3()\n",
    "while True:\n",
    "    g.right()"
   ]
  },
  {
   "cell_type": "markdown",
   "metadata": {},
   "source": [
    "If you interrupt the kernel to stop the above code, the GoPiGo keeps on spinning because it needs to be told to stop. This is why there's a big stop sign at the top.\n",
    "\n",
    "![title](../img/stop_robot.png) This icon stops the robot but not the kernel\n",
    "\n",
    "![title](../img/stop.png) This icon stops the kernel but not the robot"
   ]
  },
  {
   "cell_type": "markdown",
   "metadata": {},
   "source": [
    "## Autocompletion Code"
   ]
  },
  {
   "cell_type": "markdown",
   "metadata": {},
   "source": [
    "There are two key combinations for auto-completion code:\n",
    "* `Tab`\n",
    "* `Shift-Tab`\n",
    "\n",
    "The `Tab` is used where one wants to see suggestions for classes in a module, functions, variables, etc, like in the following example.\n",
    "\n",
    "<img src=\"../img/tab_completion.png\" width=\"500\">\n",
    "\n",
    "---------\n",
    "\n",
    "The `Shift-Tab` combination is used for showing the parameters of functions, methods and classes. The following screenshot proves the point.\n",
    "\n",
    "\n",
    "<img src=\"../img/shifttab_completion.png\" width=\"600\">\n",
    "\n",
    "---------"
   ]
  }
 ],
 "metadata": {
  "kernelspec": {
   "display_name": "Python 3",
   "language": "python",
   "name": "python3"
  },
  "language_info": {
   "codemirror_mode": {
    "name": "ipython",
    "version": 3
   },
   "file_extension": ".py",
   "mimetype": "text/x-python",
   "name": "python",
   "nbconvert_exporter": "python",
   "pygments_lexer": "ipython3",
   "version": "3.7.3"
  }
 },
 "nbformat": 4,
 "nbformat_minor": 2
}

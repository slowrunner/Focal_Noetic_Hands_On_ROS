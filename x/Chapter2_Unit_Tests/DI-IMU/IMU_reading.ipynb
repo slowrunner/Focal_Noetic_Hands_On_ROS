{
 "cells": [
  {
   "cell_type": "markdown",
   "metadata": {},
   "source": [
    "# Example program for reading a Dexter Industries IMU Sensor on a GoPiGo3 AD2 port"
   ]
  },
  {
   "cell_type": "markdown",
   "metadata": {},
   "source": [
    "Import required libraries"
   ]
  },
  {
   "cell_type": "code",
   "execution_count": null,
   "metadata": {},
   "outputs": [],
   "source": [
    "import time\n",
    "from di_sensors.inertial_measurement_unit import InertialMeasurementUnit"
   ]
  },
  {
   "cell_type": "markdown",
   "metadata": {},
   "source": [
    "Create the object"
   ]
  },
  {
   "cell_type": "code",
   "execution_count": null,
   "metadata": {},
   "outputs": [],
   "source": [
    "imu = InertialMeasurementUnit(bus = \"GPG3_AD1\")"
   ]
  },
  {
   "cell_type": "markdown",
   "metadata": {},
   "source": [
    "Read the magnetometer, gyroscope, accelerometer, euler, and temperature values"
   ]
  },
  {
   "cell_type": "code",
   "execution_count": null,
   "metadata": {},
   "outputs": [],
   "source": [
    "while True:\n",
    "    mag   = imu.read_magnetometer()\n",
    "    gyro  = imu.read_gyroscope()\n",
    "    accel = imu.read_accelerometer()\n",
    "    euler = imu.read_euler()\n",
    "    temp  = imu.read_temperature()\n",
    "    imu_data = \"Magnetometer X: {:5.1f}  Y: {:5.1f}  Z: {:5.1f} \" \\\n",
    "                      \"Gyroscope X: {:.1f}  Y: {:.1f}  Z: {:.1f} \" \\\n",
    "                      \"Accelerometer X: {:.1f}  Y: {:.1f} Z: {:.1f} \" \\\n",
    "                      \"Euler Heading: {:.1f}  Roll: {:.1f}  Pitch: {:.1f} \"\\\n",
    "                      \"Temperature: {:.1f}ºC\".format(mag[0], mag[1], mag[2],\n",
    "                                                    gyro[0], gyro[1], gyro[2],\n",
    "                                                    accel[0], accel[1], accel[2],\n",
    "                                                    euler[0], euler[1], euler[2],temp)\n",
    "    magnetometer = \"Magnetometer X: {:5.1f}  Y: {:5.1f}  Z: {:5.1f} \".format(mag[0], mag[1], mag[2])\n",
    "    gyroscope = \"Gyroscope X: {:.1f}  Y: {:.1f}  Z: {:.1f} \".format(gyro[0], gyro[1], gyro[2])\n",
    "    accelorometer = \"Accelerometer X: {:.1f}  Y: {:.1f} Z: {:.1f} \".format(accel[0], accel[1], accel[2])\n",
    "    euler = \"Euler Heading: {:.1f}  Roll: {:.1f}  Pitch: {:.1f} \".format(euler[0], euler[1], euler[2])\n",
    "    temp_data = \"Temperature: {:.1f}ºC\".format(temp)\n",
    "    \n",
    "    # This line prints all data in a single row\n",
    "    print(imu_data) \n",
    "    \n",
    "    # Theses lines take on row for each sensor measurement\n",
    "    #print(magnetometer)\n",
    "    #print(gyroscope)\n",
    "    #print(accelorometer)\n",
    "    #print(euler)\n",
    "    #print(temp_data)\n",
    "    \n",
    "    time.sleep(1)"
   ]
  }
 ],
 "metadata": {
  "kernelspec": {
   "display_name": "Python 3",
   "language": "python",
   "name": "python3"
  },
  "language_info": {
   "codemirror_mode": {
    "name": "ipython",
    "version": 3
   },
   "file_extension": ".py",
   "mimetype": "text/x-python",
   "name": "python",
   "nbconvert_exporter": "python",
   "pygments_lexer": "ipython3",
   "version": "3.7.3"
  }
 },
 "nbformat": 4,
 "nbformat_minor": 2
}

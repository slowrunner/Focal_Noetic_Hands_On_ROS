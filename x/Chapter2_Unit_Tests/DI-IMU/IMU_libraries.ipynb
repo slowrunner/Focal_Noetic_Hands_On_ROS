{
 "cells": [
  {
   "cell_type": "code",
   "execution_count": null,
   "metadata": {},
   "outputs": [],
   "source": [
    "# Print all calculated variables in a cell\n",
    "from IPython.core.interactiveshell import InteractiveShell\n",
    "InteractiveShell.ast_node_interactivity = \"all\""
   ]
  },
  {
   "cell_type": "markdown",
   "metadata": {},
   "source": [
    "# IMU sensor"
   ]
  },
  {
   "cell_type": "markdown",
   "metadata": {},
   "source": [
    "## Library **inertial_measurement_unit**"
   ]
  },
  {
   "cell_type": "markdown",
   "metadata": {},
   "source": [
    "This library does not accept I2C port"
   ]
  },
  {
   "cell_type": "code",
   "execution_count": null,
   "metadata": {},
   "outputs": [],
   "source": [
    "from di_sensors.inertial_measurement_unit import InertialMeasurementUnit"
   ]
  },
  {
   "cell_type": "code",
   "execution_count": null,
   "metadata": {},
   "outputs": [],
   "source": [
    "imu = InertialMeasurementUnit(bus = \"GPG3_AD1\")  # or GPG3_AD2 (whatever it is connected)"
   ]
  },
  {
   "cell_type": "code",
   "execution_count": null,
   "metadata": {},
   "outputs": [],
   "source": [
    "imu.read_euler()\n",
    "imu.read_magnetometer()\n",
    "imu.read_gyroscope()\n",
    "imu.read_accelerometer()\n",
    "imu.read_linear_acceleration()\n",
    "imu.read_gravity()\n",
    "imu.read_quaternion()\n",
    "imu.read_temperature()"
   ]
  },
  {
   "cell_type": "markdown",
   "metadata": {},
   "source": [
    "## Library **easy_inertial_measurement_unit**"
   ]
  },
  {
   "cell_type": "code",
   "execution_count": null,
   "metadata": {},
   "outputs": [],
   "source": [
    "from di_sensors.easy_inertial_measurement_unit import EasyIMUSensor"
   ]
  },
  {
   "cell_type": "markdown",
   "metadata": {},
   "source": [
    "Run only one of the two lines below"
   ]
  },
  {
   "cell_type": "code",
   "execution_count": null,
   "metadata": {},
   "outputs": [],
   "source": [
    "imu = EasyIMUSensor(port = \"AD1\") # or AD2 (whatever it is connected)"
   ]
  },
  {
   "cell_type": "code",
   "execution_count": null,
   "metadata": {},
   "outputs": [],
   "source": [
    "imu = EasyIMUSensor(port = \"I2C\") # If connected to a I2C port"
   ]
  },
  {
   "cell_type": "markdown",
   "metadata": {},
   "source": [
    "And check it works"
   ]
  },
  {
   "cell_type": "code",
   "execution_count": null,
   "metadata": {},
   "outputs": [],
   "source": [
    "imu.read_temperature()"
   ]
  },
  {
   "cell_type": "markdown",
   "metadata": {},
   "source": [
    "You can check all other methods (they are the same as above)"
   ]
  },
  {
   "cell_type": "code",
   "execution_count": null,
   "metadata": {},
   "outputs": [],
   "source": [
    "imu.read_euler()\n",
    "imu.read_magnetometer()\n",
    "imu.read_gyroscope()\n",
    "imu.read_accelerometer()\n",
    "imu.read_linear_acceleration()\n",
    "imu.read_gravity()\n",
    "imu.read_quaternion()"
   ]
  },
  {
   "cell_type": "markdown",
   "metadata": {},
   "source": [
    "### Easy methods (specifically added by this class)"
   ]
  },
  {
   "cell_type": "code",
   "execution_count": null,
   "metadata": {},
   "outputs": [],
   "source": [
    "imu.safe_calibration_status() # 0-3 (-1 means it cannot access the sensor)"
   ]
  },
  {
   "cell_type": "code",
   "execution_count": null,
   "metadata": {},
   "outputs": [],
   "source": [
    "imu.safe_calibrate() # The IMU calibrates automatically,\n",
    "# the purpose is to block a given script untl the sensor reports it has fully calibrated\n",
    "# IT REQUIRES TO RESTART THE KERNEL (does not finish)"
   ]
  },
  {
   "cell_type": "code",
   "execution_count": null,
   "metadata": {},
   "outputs": [],
   "source": [
    "imu.reconfig_bus() # If becomes unresponsive but it's still plugged into the board"
   ]
  },
  {
   "cell_type": "markdown",
   "metadata": {},
   "source": [
    "`convert_heading(...)` **takes in a heading in degrees and return the name of the corresponding heading**"
   ]
  },
  {
   "cell_type": "code",
   "execution_count": null,
   "metadata": {},
   "outputs": [],
   "source": [
    "import time\n",
    "while True:\n",
    "    time.sleep(1)\n",
    "    print (\"{:.1f} {:s}\".format(imu.safe_north_point() , imu.convert_heading(imu.read_euler()[0])))"
   ]
  },
  {
   "cell_type": "markdown",
   "metadata": {},
   "source": [
    "`safe_read_magnetometer()` **reads the magnetometer values X, Y, Z in *micro-Teslas* **"
   ]
  },
  {
   "cell_type": "code",
   "execution_count": null,
   "metadata": {},
   "outputs": [],
   "source": [
    "imu.read_magnetometer()\n",
    "imu.safe_read_magnetometer()"
   ]
  },
  {
   "cell_type": "markdown",
   "metadata": {},
   "source": [
    "`safe_read_euler()` reads the absolute orientation of euler angles in degrees of *heading*, *roll* and *pitch*."
   ]
  },
  {
   "cell_type": "code",
   "execution_count": null,
   "metadata": {},
   "outputs": [],
   "source": [
    "imu.read_euler()\n",
    "imu.safe_read_euler()"
   ]
  }
 ],
 "metadata": {
  "kernelspec": {
   "display_name": "Python 3",
   "language": "python",
   "name": "python3"
  },
  "language_info": {
   "codemirror_mode": {
    "name": "ipython",
    "version": 3
   },
   "file_extension": ".py",
   "mimetype": "text/x-python",
   "name": "python",
   "nbconvert_exporter": "python",
   "pygments_lexer": "ipython3",
   "version": "3.7.3"
  }
 },
 "nbformat": 4,
 "nbformat_minor": 2
}

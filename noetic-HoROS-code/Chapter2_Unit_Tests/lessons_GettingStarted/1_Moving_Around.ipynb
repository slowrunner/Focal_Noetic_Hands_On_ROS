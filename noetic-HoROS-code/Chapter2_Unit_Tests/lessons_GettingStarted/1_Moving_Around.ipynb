{
 "cells": [
  {
   "cell_type": "markdown",
   "metadata": {},
   "source": [
    "# Welcome to your first Python lesson with the GoPiGo! \n",
    "\n",
    "![title](../img/GPG3_FullServoDistanceGoogly_1-1-300x300.jpg)\n",
    "\n",
    "## Libraries\n",
    "\n",
    "A Python Library is a collection of code that will help you.  Some libraries are huge and allow for facial recognition, some are really useful like the **time** library that lets the computer count time.\n",
    "\n",
    "The GoPiGo3 robot has its own dedicated library, called easygopigo3. To import it, you need to enter the following:\n",
    "\n",
    "**import easygopigo3 as easy**\n",
    "\n",
    "Why the *\"as easy\"* part? Simply because easygopigo3 is long to type, so we give it a shorter name.  \n",
    "\n",
    "Click on the following cell which is already filled for you and click on the Play icon ![title](../img/run.png) right above. \n",
    "You can also press **Shift-Enter** on your keyboard to run the import."
   ]
  },
  {
   "cell_type": "code",
   "execution_count": 1,
   "metadata": {},
   "outputs": [],
   "source": [
    "import easygopigo3 as easy"
   ]
  },
  {
   "cell_type": "markdown",
   "metadata": {},
   "source": [
    "Nothing obvious has happened but you have loaded the library and you can now access its functionality. You may have noticed that there's a number to the left of the cell. This indicates the order in which cells are run.\n",
    "\n",
    "## Instantiating a GoPiGo\n",
    "\n",
    "Your next step is instantiating a GoPiGo in memory. This will give you a \"handle\" through which you can control your robot.\n",
    "\n",
    "Click on the following cell and then use the Play icon at the top, or press **Shift-Enter** on your keyboard.\n",
    "\n"
   ]
  },
  {
   "cell_type": "code",
   "execution_count": 2,
   "metadata": {},
   "outputs": [],
   "source": [
    "my_gopigo = easy.EasyGoPiGo3()"
   ]
  },
  {
   "cell_type": "markdown",
   "metadata": {},
   "source": [
    "From now on, you can use the variable **my_gopigo** to control the physical robot and make it move around.\n",
    "\n",
    "## Driving Around\n",
    "\n",
    "You can, for example, get it to move forward by 10 cm. Before you run the next cell, make sure your GoPiGo has room to run and won't fall off a table!\n"
   ]
  },
  {
   "cell_type": "code",
   "execution_count": 3,
   "metadata": {},
   "outputs": [],
   "source": [
    "my_gopigo.drive_cm(10)"
   ]
  },
  {
   "cell_type": "markdown",
   "metadata": {},
   "source": [
    "Other commands that you can use are:\n",
    "\n",
    "**my_gopigo.forward()**  \n",
    "**my_gopigo.backward()**  \n",
    "**my_gopigo.stop()**  \n",
    "**my_gopigo.right()**  \n",
    "**my_gopigo.left()**  \n",
    "\n",
    "Try them out in the following empty cell.  Do note that **my_gopigo.forward()**, **my_gopigo.backward()**, **my_gopigo.right()** and **my_gopigo.left()** don't ever tell the robot when to stop. You will find the second cell pre-filled with the stop command. Run that cell when you want the robot to stop."
   ]
  },
  {
   "cell_type": "code",
   "execution_count": 6,
   "metadata": {},
   "outputs": [],
   "source": [
    "my_gopigo.stop()"
   ]
  },
  {
   "cell_type": "markdown",
   "metadata": {},
   "source": [
    "You can also control the robot with predetermined commands, stopping the GoPiGo3 once the command is completed.  We've already seen **my_gopigo.drive_cm(10)** which makes the robot drive forward for 10 cm.  You can also use **my_gopigo.drive_inches(10)** to get 10 inches if you prefer.  To go backwards use negative units."
   ]
  },
  {
   "cell_type": "code",
   "execution_count": 3,
   "metadata": {},
   "outputs": [],
   "source": [
    "my_gopigo.drive_inches(10)"
   ]
  },
  {
   "cell_type": "markdown",
   "metadata": {},
   "source": [
    "You can turn using the following to achieve a 90 degrees turn.\n",
    "\n",
    "**my_gopigo.turn_degrees(90)**   \n",
    "and  \n",
    "**my_gopigo.turn_degress(-90)**\n"
   ]
  },
  {
   "cell_type": "markdown",
   "metadata": {},
   "source": [
    "You can go to the next lesson by using the file navigator to the left. Your next lesson is called 2_The_Environment"
   ]
  }
 ],
 "metadata": {
  "kernelspec": {
   "display_name": "Python 3",
   "language": "python",
   "name": "python3"
  },
  "language_info": {
   "codemirror_mode": {
    "name": "ipython",
    "version": 3
   },
   "file_extension": ".py",
   "mimetype": "text/x-python",
   "name": "python",
   "nbconvert_exporter": "python",
   "pygments_lexer": "ipython3",
   "version": "3.7.3"
  }
 },
 "nbformat": 4,
 "nbformat_minor": 2
}
